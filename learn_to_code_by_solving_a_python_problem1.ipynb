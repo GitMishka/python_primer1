{
  "nbformat": 4,
  "nbformat_minor": 0,
  "metadata": {
    "colab": {
      "provenance": []
    },
    "kernelspec": {
      "name": "python3",
      "display_name": "Python 3"
    },
    "language_info": {
      "name": "python"
    }
  },
  "cells": [
    {
      "cell_type": "code",
      "source": [
        "'this is a string with a few words'.count(' ') + 1\n"
      ],
      "metadata": {
        "id": "1kmvRkMtYVLm"
      },
      "execution_count": null,
      "outputs": []
    },
    {
      "cell_type": "code",
      "source": [
        "pi =  3.141592653589793\n",
        "radius = int(input())\n",
        "height = int(input())\n",
        "volume = (pi * radius ** 2 * height) / 3\n",
        "print(volume)"
      ],
      "metadata": {
        "id": "nkuQeBAMhGB0"
      },
      "execution_count": null,
      "outputs": []
    },
    {
      "cell_type": "code",
      "source": [
        "apples3 = int(input()) * 3\n",
        "apples2 = int(input()) * 2\n",
        "apples1 = int(input())\n",
        "bananas3 = int(input()) * 3\n",
        "bananas2 = int(input()) * 2\n",
        "bananas1= int(input())\n",
        "total_apples = apples1 + apples2 + apples3\n",
        "total_bananas = bananas3 + bananas2 + bananas1\n",
        "if total_apples > total_bananas:\n",
        "   print('Apples win: ' , total_apples)\n",
        "elif total_bananas > total_apples:\n",
        "  print('Bananas win: ' , total_bananas)\n",
        "else:\n",
        "  print('Tie')"
      ],
      "metadata": {
        "id": "o02WkXHXjjd6"
      },
      "execution_count": null,
      "outputs": []
    },
    {
      "cell_type": "code",
      "source": [
        "input1 = int(input())\n",
        "input2 = int(input())\n",
        "input3 = int(input())\n",
        "input4 = int(input())\n",
        "\n",
        "if (input1 == 8 or input1 == 9) & (input4 == 8 or input4 == 9) & (input2 == input3):\n",
        "  print('Pass')\n",
        "else:\n",
        "  print('Accept')"
      ],
      "metadata": {
        "id": "nqXV9igRscdp"
      },
      "execution_count": null,
      "outputs": []
    },
    {
      "cell_type": "code",
      "source": [
        "x = 5\n",
        "if x > 2:\n",
        "  x = -3\n",
        "if x > 1:\n",
        "  x = 1\n",
        "else:\n",
        "  x = 3\n",
        "print(x)"
      ],
      "metadata": {
        "colab": {
          "base_uri": "https://localhost:8080/"
        },
        "id": "vLYT9QANnDDi",
        "outputId": "23a5edd6-8deb-4791-a4af-d00012ac3b7a"
      },
      "execution_count": null,
      "outputs": [
        {
          "output_type": "stream",
          "name": "stdout",
          "text": [
            "3\n"
          ]
        }
      ]
    },
    {
      "cell_type": "code",
      "source": [
        "s = 'garage'\n",
        "total = 0\n",
        "for char in s:\n",
        "  total = total + s.count(char)\n",
        "  print(total)\n"
      ],
      "metadata": {
        "id": "hQecQv1N5uyB"
      },
      "execution_count": null,
      "outputs": []
    },
    {
      "cell_type": "code",
      "source": [
        "input1 = 'ABCA'\n",
        "input1len = len(input1)\n",
        "print(input1len)\n",
        "for char in input1:\n",
        "  print(char)"
      ],
      "metadata": {
        "id": "rmXVQp9Fy_8-"
      },
      "execution_count": null,
      "outputs": []
    },
    {
      "cell_type": "code",
      "source": [
        "yesterday = 'CC.'\n",
        "for spot in yesterday:\n",
        "  print(spot)\n",
        "  print('---')\n",
        "print(yesterday.count('C'))"
      ],
      "metadata": {
        "colab": {
          "base_uri": "https://localhost:8080/"
        },
        "id": "3P5KBQEkUW4c",
        "outputId": "9a16535d-b0c6-496b-c9c5-117934187965"
      },
      "execution_count": null,
      "outputs": [
        {
          "output_type": "stream",
          "name": "stdout",
          "text": [
            "C\n",
            "---\n",
            "C\n",
            "---\n",
            ".\n",
            "---\n",
            "2\n"
          ]
        }
      ]
    },
    {
      "cell_type": "code",
      "source": [
        "for num in range(2, 8, 2):\n",
        "  print(num)"
      ],
      "metadata": {
        "colab": {
          "base_uri": "https://localhost:8080/"
        },
        "id": "wM7OqY-tVzoP",
        "outputId": "d0c410c9-4ec5-4771-9eff-b5883b7bd140"
      },
      "execution_count": null,
      "outputs": [
        {
          "output_type": "stream",
          "name": "stdout",
          "text": [
            "2\n",
            "4\n",
            "6\n"
          ]
        }
      ]
    },
    {
      "cell_type": "code",
      "source": [
        "letters = 'ABC'\n",
        "digits = '123'\n",
        "for letter in letters:\n",
        "  for digit in digits:\n",
        "    print(letter + digit)\n",
        "  #print(letter + digit)"
      ],
      "metadata": {
        "id": "f9FC43i8ADjh"
      },
      "execution_count": null,
      "outputs": []
    },
    {
      "cell_type": "code",
      "source": [
        "swaps = input().upper()\n",
        "ball_location = 1\n",
        "\n",
        "for swap_type in swaps:\n",
        "  if swap_type == 'A' and ball_location == 1:\n",
        "    ball_location = 2\n",
        "  elif swap_type == 'A' and ball_location ==2:\n",
        "    ball_location = 1\n",
        "  elif swap_type == 'B' and ball_location == 2:\n",
        "    ball_location = 3\n",
        "  elif swap_type == 'B' and ball_location == 3:\n",
        "    ball_location == 2\n",
        "  elif swap_type == 'C' and ball_location == 1:\n",
        "    ball_location = 3\n",
        "  elif swap_type == 'C' and ball_location == 3:\n",
        "    ball_location = 1\n",
        "  print(ball_location) "
      ],
      "metadata": {
        "colab": {
          "base_uri": "https://localhost:8080/"
        },
        "id": "hj17_qhKDYae",
        "outputId": "a99fc35e-5f64-4d35-d553-e1d9638b46e1"
      },
      "execution_count": null,
      "outputs": [
        {
          "output_type": "stream",
          "name": "stdout",
          "text": [
            "c\n",
            "3\n"
          ]
        }
      ]
    },
    {
      "cell_type": "code",
      "source": [
        "list(range(3, 7))"
      ],
      "metadata": {
        "colab": {
          "base_uri": "https://localhost:8080/"
        },
        "id": "lTbT5E9-aiuE",
        "outputId": "d83b9ad1-14e3-41b1-b1b7-92d3e08461f7"
      },
      "execution_count": null,
      "outputs": [
        {
          "output_type": "execute_result",
          "data": {
            "text/plain": [
              "[3, 4, 5, 6]"
            ]
          },
          "metadata": {},
          "execution_count": 73
        }
      ]
    },
    {
      "cell_type": "code",
      "source": [
        "yesteday = 'CC.'\n",
        "today = '.C.'\n",
        "for index in range(len(yesterday)):\n",
        "  print(yesterday[index], today[index])"
      ],
      "metadata": {
        "colab": {
          "base_uri": "https://localhost:8080/"
        },
        "id": "H_m4s6CMavkj",
        "outputId": "270bbde8-a805-48fb-90b8-e11e24221320"
      },
      "execution_count": null,
      "outputs": [
        {
          "output_type": "stream",
          "name": "stdout",
          "text": [
            "C .\n",
            "C C\n",
            ". .\n"
          ]
        }
      ]
    },
    {
      "cell_type": "code",
      "source": [
        "yesterday = input().upper()\n",
        "today = input().upper()\n",
        "\n",
        "count = 0\n",
        "\n",
        "for i in range(len(yesterday)):\n",
        "  if yesterday[i] == 'C' and today[i] == 'C':\n",
        "    count = count + 1\n",
        "print(count)"
      ],
      "metadata": {
        "colab": {
          "base_uri": "https://localhost:8080/"
        },
        "id": "SuN5ukefkgOB",
        "outputId": "5dad55f7-3495-42fb-891c-a598eeaf410d"
      },
      "execution_count": null,
      "outputs": [
        {
          "output_type": "stream",
          "name": "stdout",
          "text": [
            "c,c\n",
            "ccc\n",
            "2\n"
          ]
        }
      ]
    },
    {
      "cell_type": "code",
      "source": [
        "words = ['one','two','three']\n",
        "words[0]\n",
        "words[1][1]\n",
        "\n"
      ],
      "metadata": {
        "colab": {
          "base_uri": "https://localhost:8080/",
          "height": 35
        },
        "id": "i-DzkQKJntu4",
        "outputId": "d5829429-c3bc-4f1e-ffaf-91c188dae9c6"
      },
      "execution_count": null,
      "outputs": [
        {
          "output_type": "execute_result",
          "data": {
            "text/plain": [
              "'w'"
            ],
            "application/vnd.google.colaboratory.intrinsic+json": {
              "type": "string"
            }
          },
          "metadata": {},
          "execution_count": 81
        }
      ]
    },
    {
      "cell_type": "code",
      "source": [
        "monthly_mb = int(input())\n",
        "n = int(input())\n",
        "\n",
        "excess = 0\n",
        "\n",
        "for i in range(n):\n",
        "  used = int(input())\n",
        "  excess = excess + monthly_mb - used\n",
        "\n",
        "print(monthly_mb + excess)"
      ],
      "metadata": {
        "colab": {
          "base_uri": "https://localhost:8080/"
        },
        "id": "b10YM7QUv239",
        "outputId": "2ec1be29-b0e7-48a0-9800-8e8e1880fb4d"
      },
      "execution_count": null,
      "outputs": [
        {
          "output_type": "stream",
          "name": "stdout",
          "text": [
            "20\n",
            "5\n",
            "3\n",
            "4\n",
            "2\n",
            "1\n",
            "5\n",
            "105\n"
          ]
        }
      ]
    },
    {
      "cell_type": "code",
      "source": [
        "Marthas_bag = 1000\n",
        "first_slot = 21\n",
        "second_slot = 45\n",
        "third_slot = 4"
      ],
      "metadata": {
        "id": "pcbf8zhZ7Eej"
      },
      "execution_count": null,
      "outputs": []
    }
  ]
}